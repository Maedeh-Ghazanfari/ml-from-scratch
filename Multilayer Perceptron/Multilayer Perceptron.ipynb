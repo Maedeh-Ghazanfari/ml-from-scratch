{
 "cells": [
  {
   "cell_type": "code",
   "execution_count": 1,
   "id": "a2b8b98f-febe-46a8-bb61-fb84f1e52383",
   "metadata": {},
   "outputs": [],
   "source": [
    "# I tried my best to avoid hard coding in this project:)"
   ]
  },
  {
   "cell_type": "markdown",
   "id": "ffffbfe3-3a21-4098-bce7-7dcdef3a4ff9",
   "metadata": {},
   "source": [
    "#### Importing libraries"
   ]
  },
  {
   "cell_type": "code",
   "execution_count": 14,
   "id": "28b3f1bb-2cdf-4359-aec2-c060747850f2",
   "metadata": {},
   "outputs": [],
   "source": [
    "import numpy as np\n",
    "from scipy.misc import derivative"
   ]
  },
  {
   "cell_type": "markdown",
   "id": "8301bfab-017d-4a3d-8fed-2190f92c914b",
   "metadata": {},
   "source": [
    "#### Defining the dataset which is simply XOR:"
   ]
  },
  {
   "cell_type": "code",
   "execution_count": 11,
   "id": "9fa541f1-b6c2-4dd2-971f-7770343b3fb4",
   "metadata": {},
   "outputs": [],
   "source": [
    "X = np.array([[0,0], [0,1], [1,1], [1,0]]) # inputs\n",
    "y = np.array([[0], [1], [0], [1]]) # labels"
   ]
  },
  {
   "cell_type": "markdown",
   "id": "d5a9ee98-6785-48ff-b347-692701a5e678",
   "metadata": {},
   "source": [
    "#### Initialize the layers size"
   ]
  },
  {
   "cell_type": "code",
   "execution_count": 4,
   "id": "f6b8df3c-191d-41dd-bcfc-1c50991bb192",
   "metadata": {},
   "outputs": [],
   "source": [
    "network = {'Input':2, 'Hidden_1': 3, 'Hidden_2':2, 'Output': 1}"
   ]
  },
  {
   "cell_type": "markdown",
   "id": "85b39346-4afc-4cd0-bb20-0417a319a94f",
   "metadata": {},
   "source": [
    "#### Define weights, biases and X"
   ]
  },
  {
   "cell_type": "code",
   "execution_count": 5,
   "id": "a9a0b553-0b65-4d73-b09d-d271e05fa491",
   "metadata": {},
   "outputs": [],
   "source": [
    "# First I wanted to define weight this simple but then I learned something cooler;)\n",
    "# W = np.random.randn(2,2)"
   ]
  },
  {
   "cell_type": "code",
   "execution_count": 6,
   "id": "5c7d4d34-37a0-4b20-a3a8-ff3491fab163",
   "metadata": {},
   "outputs": [],
   "source": [
    "# Can initialize weights using Xavier or He normal and based on my activation functions:\n",
    "def init_weights(n_in, n_out, activation) -> np.ndarray:\n",
    "    if activation in ['sigmoid', 'tanh']:\n",
    "        limit = np.sqrt(6 / (n_in + n_out))  # Xavier uniform\n",
    "        weights = np.random.uniform(-limit, limit, size=(n_in, n_out))\n",
    "    elif activation == 'relu':\n",
    "        std_dev = np.sqrt(2 / n_in)  # He normal\n",
    "        weights = np.random.normal(0, std_dev, size=(n_in, n_out))\n",
    "    else:\n",
    "        weights = np.random.normal(0, 0.01, size=(n_in, n_out))\n",
    "    return weights\n",
    "\n",
    "# Initialize biases based on count of neurons of each layer\n",
    "def init_bias(n_neurons):\n",
    "    biases = np.zeros((1, n_neurons))\n",
    "    return biases"
   ]
  },
  {
   "cell_type": "markdown",
   "id": "349c2f32-b1a5-4542-9a13-c455c903566b",
   "metadata": {},
   "source": [
    "#### Activation Functions"
   ]
  },
  {
   "cell_type": "code",
   "execution_count": 50,
   "id": "5485965e-5e7d-4b2c-b928-bfae2d1680de",
   "metadata": {},
   "outputs": [],
   "source": [
    "def relu_func(x:np.ndarray) -> np.ndarray:\n",
    "    return(np.maximum(0,x))\n",
    "\n",
    "def relu_derivative(a):\n",
    "    return (a > 0).astype(float)\n",
    "\n",
    "def sigmoid_func(x:np.ndarray) -> np.ndarray:\n",
    "    # sigmoid returns probabilities and not labels!\n",
    "    p = 1 / (1+np.exp(-x))\n",
    "    \n",
    "    labels = (p >= 0.5).astype(int) # this works as boolean, if p>=0.5 returns True and then astype(int) converts to 1!\n",
    "    return labels\n",
    "\n",
    "def sigmoid_derivative(a):\n",
    "    return a * (1 - a)\n",
    "\n",
    "activations = {'relu': relu_func, 'relu_der': relu_derivative, 'sigmoid': sigmoid_func, 'sigmoid_der': sigmoid_derivative}"
   ]
  },
  {
   "cell_type": "markdown",
   "id": "c0debc97-91bf-4013-9e31-27e8db9c4e55",
   "metadata": {},
   "source": [
    "#### FeedForward"
   ]
  },
  {
   "cell_type": "code",
   "execution_count": 8,
   "id": "9cd894ea-edb8-4991-963d-2d9cea394a16",
   "metadata": {},
   "outputs": [],
   "source": [
    "def feedforward(W:np.ndarray, b:np.ndarray, X:np.ndarray, activation_func:callable):\n",
    "    z = (np.dot(X,W)) + b\n",
    "    a = activation_func(z) # adding activation function \n",
    "    return a"
   ]
  },
  {
   "cell_type": "code",
   "execution_count": 12,
   "id": "dae67a9f-169e-4e79-89c9-1503a88d8a4e",
   "metadata": {
    "scrolled": true
   },
   "outputs": [],
   "source": [
    "a = X\n",
    "weights = {} # storing different layers weights inside a dict.\n",
    "biases = {}  # same for biases.\n",
    "after_act = {}\n",
    "\n",
    "# A loop  for initializing parameters and feedforward\n",
    "for index, (key, value) in enumerate(network.items()):\n",
    "    if key == 'Input':\n",
    "        pass\n",
    "    elif 'Hidden' in key:\n",
    "        w = init_weights(list(network.values())[index-1], list(network.values())[index],activations['relu'])\n",
    "        b = init_bias(value)\n",
    "        \n",
    "        assert w.shape[0] == a.shape[1] # Preventing error because of a shape mismatch between matrices\n",
    "        a = feedforward(w,b,a, activations[\"relu\"])\n",
    "        \n",
    "        weights[f\"Hidden_{index}\"] = w\n",
    "        biases[f\"Hidden_{index}\"] = b\n",
    "        after_act[f\"Hidden_{index}\"] = a\n",
    "        \n",
    "    else:\n",
    "        w = init_weights(list(network.values())[index-1], list(network.values())[index],activations['sigmoid']) # dicts don't have index function, converting to list first\n",
    "        b = init_bias(value)\n",
    "        \n",
    "        assert w.shape[0] == a.shape[1] # Preventing error because of a shape mismatch between matrices\n",
    "        a = feedforward(w,b,a, activations[\"sigmoid\"])\n",
    "        \n",
    "        weights[f\"Output\"] = w\n",
    "        biases[f\"Output\"] = b\n",
    "        after_act[f\"Output\"] = a"
   ]
  },
  {
   "cell_type": "code",
   "execution_count": 13,
   "id": "40cc1280-c975-4f1f-a181-5b36faa7e078",
   "metadata": {},
   "outputs": [
    {
     "data": {
      "text/plain": [
       "{'Hidden_1': array([[0.        , 0.        , 0.        ],\n",
       "        [0.00730955, 0.        , 0.        ],\n",
       "        [0.0215827 , 0.0027223 , 0.        ],\n",
       "        [0.01427314, 0.00347528, 0.01090004]]),\n",
       " 'Hidden_2': array([[0.00000000e+00, 0.00000000e+00],\n",
       "        [1.55227107e-05, 0.00000000e+00],\n",
       "        [9.90023651e-06, 0.00000000e+00],\n",
       "        [0.00000000e+00, 0.00000000e+00]]),\n",
       " 'Output': array([[1],\n",
       "        [0],\n",
       "        [0],\n",
       "        [1]])}"
      ]
     },
     "execution_count": 13,
     "metadata": {},
     "output_type": "execute_result"
    }
   ],
   "source": [
    "after_act"
   ]
  },
  {
   "cell_type": "markdown",
   "id": "a4ce65bd-24bd-46ca-b271-fe9e310af75f",
   "metadata": {},
   "source": [
    "#### BackPropagation"
   ]
  },
  {
   "cell_type": "code",
   "execution_count": 69,
   "id": "9fe83dc5-d3d9-4b4b-b63f-b5b5abb5af07",
   "metadata": {},
   "outputs": [],
   "source": [
    "# Step 1:\n",
    "\n",
    "predict = after_act['Output']\n",
    "error = y - predict\n",
    "der=sigmoid_derivative(after_act['Output'])\n",
    "\n",
    "output_delta = error * der\n",
    "\n",
    "# Step 2:\n",
    "# hidden_delta = (np.dot(output_delta, np.transpose(weights['Output'])))\n",
    "hidden_2_delta = np.dot(output_delta, np.transpose(weights['Output'])) * relu_derivative(after_act['Hidden_2'])\n",
    "hidden_1_delta = np.dot(hidden_2_delta, weights['Hidden_1']) * relu_derivative(after_act['Hidden_1'])"
   ]
  },
  {
   "cell_type": "code",
   "execution_count": null,
   "id": "2e237c6e-b94d-4ed4-8e62-b61a8f21e027",
   "metadata": {},
   "outputs": [],
   "source": []
  }
 ],
 "metadata": {
  "kernelspec": {
   "display_name": "Python 3 (ipykernel)",
   "language": "python",
   "name": "python3"
  },
  "language_info": {
   "codemirror_mode": {
    "name": "ipython",
    "version": 3
   },
   "file_extension": ".py",
   "mimetype": "text/x-python",
   "name": "python",
   "nbconvert_exporter": "python",
   "pygments_lexer": "ipython3",
   "version": "3.8.8"
  }
 },
 "nbformat": 4,
 "nbformat_minor": 5
}
